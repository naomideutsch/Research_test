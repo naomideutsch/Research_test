{
  "nbformat": 4,
  "nbformat_minor": 0,
  "metadata": {
    "colab": {
      "name": "UnknownNumberMultipleSpeakers.ipynb",
      "provenance": [],
      "authorship_tag": "ABX9TyM7JzwvXiiDq/YzncngO0Q4",
      "include_colab_link": true
    },
    "kernelspec": {
      "name": "python3",
      "display_name": "Python 3"
    },
    "accelerator": "GPU"
  },
  "cells": [
    {
      "cell_type": "markdown",
      "metadata": {
        "id": "view-in-github",
        "colab_type": "text"
      },
      "source": [
        "<a href=\"https://colab.research.google.com/github/naomideutsch/Research_test/blob/main/UnknownNumberMultipleSpeakers.ipynb\" target=\"_parent\"><img src=\"https://colab.research.google.com/assets/colab-badge.svg\" alt=\"Open In Colab\"/></a>"
      ]
    },
    {
      "cell_type": "code",
      "metadata": {
        "id": "ttmYiGQeSFOY",
        "outputId": "05c10a9c-dc99-4d74-ea14-39f7b1f76be1",
        "colab": {
          "base_uri": "https://localhost:8080/"
        }
      },
      "source": [
        "!git clone https://github.com/naomideutsch/Research_test"
      ],
      "execution_count": 1,
      "outputs": [
        {
          "output_type": "stream",
          "text": [
            "Cloning into 'Research_test'...\n",
            "remote: Enumerating objects: 491, done.\u001b[K\n",
            "remote: Counting objects: 100% (491/491), done.\u001b[K\n",
            "remote: Compressing objects: 100% (302/302), done.\u001b[K\n",
            "remote: Total 491 (delta 272), reused 394 (delta 182), pack-reused 0\u001b[K\n",
            "Receiving objects: 100% (491/491), 2.48 MiB | 18.68 MiB/s, done.\n",
            "Resolving deltas: 100% (272/272), done.\n"
          ],
          "name": "stdout"
        }
      ]
    },
    {
      "cell_type": "code",
      "metadata": {
        "id": "9KbMFmkpsyzP"
      },
      "source": [
        "!git pull"
      ],
      "execution_count": null,
      "outputs": []
    },
    {
      "cell_type": "code",
      "metadata": {
        "id": "j4WwaatHs1Gq",
        "outputId": "17c69459-3794-4349-b04e-9c05f60ab860",
        "colab": {
          "base_uri": "https://localhost:8080/"
        }
      },
      "source": [
        "cd Research_test/Unknown_Number_Multiple_Speakers_code/code/egs/wsj0/"
      ],
      "execution_count": 3,
      "outputs": [
        {
          "output_type": "stream",
          "text": [
            "/content/Research_test/Unknown_Number_Multiple_Speakers_code/code/egs/wsj0\n"
          ],
          "name": "stdout"
        }
      ]
    },
    {
      "cell_type": "code",
      "metadata": {
        "id": "99hpcuQOuDCC",
        "outputId": "19bfd5e7-29ca-4473-a094-f31429f7dd6b",
        "colab": {
          "base_uri": "https://localhost:8080/"
        }
      },
      "source": [
        "from google.colab import drive\n",
        "drive.mount('/content/drive')"
      ],
      "execution_count": 6,
      "outputs": [
        {
          "output_type": "stream",
          "text": [
            "Mounted at /content/drive\n"
          ],
          "name": "stdout"
        }
      ]
    },
    {
      "cell_type": "code",
      "metadata": {
        "id": "J9A6q-1CtXBf",
        "outputId": "00ac0601-c53e-47dd-e4f6-0e39e3cd76fc",
        "colab": {
          "base_uri": "https://localhost:8080/"
        }
      },
      "source": [
        "ls"
      ],
      "execution_count": 4,
      "outputs": [
        {
          "output_type": "stream",
          "text": [
            "\u001b[0m\u001b[01;32mcmd.sh\u001b[0m*  \u001b[01;34mdata\u001b[0m/  \u001b[01;34mdata_wham\u001b[0m/  \u001b[01;34mdata_whamr\u001b[0m/  \u001b[01;34mexp\u001b[0m/  \u001b[01;32mpath.sh\u001b[0m*  \u001b[01;32mrun_mloss.sh\u001b[0m*  \u001b[01;34mutils\u001b[0m/\n"
          ],
          "name": "stdout"
        }
      ]
    },
    {
      "cell_type": "code",
      "metadata": {
        "id": "VzYIVAwctYkG",
        "outputId": "bf57afbd-66ed-4f78-9e03-70d8a3c6034c",
        "colab": {
          "base_uri": "https://localhost:8080/"
        }
      },
      "source": [
        "!./run_mloss.sh"
      ],
      "execution_count": 7,
      "outputs": [
        {
          "output_type": "stream",
          "text": [
            "/content/drive/My Drive/Colab Notebooks/Research_Test/exp/train_icml_submisson_r8000_N128_L8_C2_gLN_causal0_relu_epoch1000000_half1_norm5_bs2_worker4_adam_lr1e-3_mmt0_rnn_b_layer8_segment4_l20_lw1.0_tflip1_loss_every1_lr_decay0.92_tr\n",
            "Stage 2: Training\n",
            "Logfile path\n",
            "/content/drive/My Drive/Colab Notebooks/Research_Test/exp/train_icml_submisson_r8000_N128_L8_C2_gLN_causal0_relu_epoch1000000_half1_norm5_bs2_worker4_adam_lr1e-3_mmt0_rnn_b_layer8_segment4_l20_lw1.0_tflip1_loss_every1_lr_decay0.92_tr/train.log\n",
            "run.pl: job failed, log is in /content/drive/My Drive/Colab Notebooks/Research_Test/exp/train_icml_submisson_r8000_N128_L8_C2_gLN_causal0_relu_epoch1000000_half1_norm5_bs2_worker4_adam_lr1e-3_mmt0_rnn_b_layer8_segment4_l20_lw1.0_tflip1_loss_every1_lr_decay0.92_tr/train.log\n"
          ],
          "name": "stdout"
        }
      ]
    }
  ]
}